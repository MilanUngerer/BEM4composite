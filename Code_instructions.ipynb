{
 "cells": [
  {
   "cell_type": "markdown",
   "metadata": {},
   "source": [
    "# Explanation of ''ejecutor.py'' code"
   ]
  },
  {
   "cell_type": "markdown",
   "metadata": {},
   "source": [
    "This notebook is an explanation to understand the functionality of the code that compute the field"
   ]
  },
  {
   "cell_type": "markdown",
   "metadata": {},
   "source": [
    "The system of equations to solve this notebook consist in a matrix with two wires inserted represented with the matrix showed below . For more information on how to form this system please see https://github.com/MilanUngerer/BEM_microwire/blob/master/documentation/Tesis.pdf"
   ]
  },
  {
   "cell_type": "markdown",
   "metadata": {},
   "source": [
    "\\begin{equation}\n",
    "\t\t\\begin{bmatrix}\n",
    "\t\t-D_{ext}^{mm} - D_{int}^{mm} & S_{int}^{mm} + \\frac{1}{\\alpha}S_{ext}^{mm} & D_{ext}^{1m} & -S_{ext}^{1m} & D_{ext}^{2m} & -S_{ext}^{2m}\\\\\n",
    "\t\t\\\\\n",
    "\t\t-D_{ext}^{'mm} - D_{int}^{'mm} & (\\frac{\\alpha - 1}{2\\alpha})+ S_{int}^{'mm} + \\frac{1}{\\alpha}S_{ext}^{'mm} & D_{ext}^{'1m} & -S_{ext}^{'1m} & D_{ext}^{'2m} & -S_{ext}^{'2m}\\\\\n",
    "\t\t\\\\\n",
    "\t\t-D_{int}^{m1} & S_{int}^{m1} & -D_{ext}^{11} - D_{int}^{11} & \\alpha S_{int}^{11} + S_{ext}^{11} & D_{ext}^{21} & -S_{ext}^{21}\\\\\n",
    "\t\t\\\\\n",
    "\t\t-D_{int}^{'m1} & S_{int}^{'m1} & -D_{ext}^{'11} - D_{int}^{'11} & (\\frac{\\alpha - 1}{2})+\\alpha S_{int}^{'11} + S_{ext}^{'11} & D_{ext}^{'21} & -S_{ext}^{'21}\\\\\n",
    "\t\t\\\\\n",
    "\t\t-D_{int}^{m2} & S_{int}^{m2} & D_{ext}^{12} & -S_{ext}^{12} & -D_{ext}^{22} - D_{int}^{22} & \\alpha S_{int}^{22} + S_{ext}^{22}\\\\\n",
    "\t\t\\\\\n",
    "\t\t-D_{int}^{'m2} & S_{int}^{'m2} & D_{ext}^{'12} & -S_{ext}^{'12} & -D_{ext}^{'22} - D_{int}^{'22} & (\\frac{\\alpha - 1}{2})+\\alpha S_{int}^{'22} + S_{ext}^{'22}\\\\\n",
    "\t\t\\end{bmatrix}\n",
    "\t\t\\begin{bmatrix}\n",
    "\t\tu^{int}_m\\\\\n",
    "\t\t\\\\\n",
    "\t\t\\frac{\\partial u^{int}_m}{\\partial n}\\\\\n",
    "\t\t\\\\\n",
    "\t\tu^{ext}_1\\\\\n",
    "\t\t\\\\\n",
    "\t\t\\frac{\\partial u^{ext}_1}{\\partial n}\\\\\n",
    "\t\t\\\\\n",
    "\t\tu^{ext}_2\\\\\n",
    "\t\t\\\\\n",
    "\t\t\\frac{\\partial u^{ext}_2}{\\partial n}\\\\\n",
    "\t\t\\end{bmatrix}\n",
    "\t\t=\n",
    "\t\t\\begin{bmatrix}\n",
    "\t\tu_{inc}^1\\\\\n",
    "\t\t\\\\\n",
    "\t\t\\frac{\\partial u_{inc}^1}{\\partial n}\\\\\n",
    "\t\t\\\\\n",
    "\t\t0\\\\\n",
    "\t\t\\\\\n",
    "\t\t0\\\\\n",
    "\t\t\\\\\n",
    "\t\t0\\\\\n",
    "\t\t\\\\\n",
    "\t\t0\\\\\n",
    "\t\t\\\\\n",
    "\t\t\\end{bmatrix}\n",
    "\\end{equation}  "
   ]
  },
  {
   "cell_type": "markdown",
   "metadata": {},
   "source": [
    "First of all we have to define some constants:"
   ]
  },
  {
   "cell_type": "code",
   "execution_count": null,
   "metadata": {
    "collapsed": true
   },
   "outputs": [],
   "source": [
    "#Preambulo\n",
    "import numpy as np\n",
    "import bempp.api\n",
    "omega = 2.*np.pi*10.e9\n",
    "e0 = 8.854*1e-12*1e-18\n",
    "mu0 = 4.*np.pi*1e-7*1e6\n",
    "mue = (1.)*mu0\n",
    "ee = (16.)*e0\n",
    "mui = (-2.9214+0.5895j)*mu0\n",
    "ei = (82629.2677-200138.2211j)*e0\n",
    "k = omega*np.sqrt(e0*mu0)\n",
    "lam = 2*np.pi/k\n",
    "nm = np.sqrt((ee*mue)/(e0*mu0))\n",
    "nc = np.sqrt((ei*mui)/(e0*mu0))\n",
    "alfa_m = mue/mu0\n",
    "alfa_c = mui/mue\n",
    "antena = np.array([[1e4],[0.],[0.]])\n",
    "print \"Numero de onda exterior:\", k\n",
    "print \"Indice de refraccion matriz:\", nm\n",
    "print \"Indice de refraccion conductor:\", nc\n",
    "print \"Numero de onda interior matriz:\", nm*k\n",
    "print \"Numero de onda interior conductor:\", nm*nc*k\n",
    "print \"Indice de transmision matriz:\", alfa_m\n",
    "print \"Indice de transmision conductor:\", alfa_c\n",
    "print \"Longitud de onda:\", lam, \"micras\""
   ]
  },
  {
   "cell_type": "markdown",
   "metadata": {},
   "source": [
    "In the following lines are the codes to import the meshes that we will use"
   ]
  },
  {
   "cell_type": "code",
   "execution_count": null,
   "metadata": {
    "collapsed": true
   },
   "outputs": [],
   "source": [
    "#Importando mallas\n",
    "matriz = bempp.api.import_grid('/home/milan/matriz_12x12x300_E16772.msh')\n",
    "grid_0 = bempp.api.import_grid('/home/milan/PH1_a5_l10_E5550_D2.msh')\n",
    "grid_1 = bempp.api.import_grid('/home/milan/PH2_a5_l10_E5550_D2.msh')"
   ]
  },
  {
   "cell_type": "markdown",
   "metadata": {},
   "source": [
    "Also, we have to define the boundary functions that we will use to apply the boundary conditions. In this case an armonic wave for Dirichlet and his derivate for Neumann"
   ]
  },
  {
   "cell_type": "code",
   "execution_count": null,
   "metadata": {
    "collapsed": true
   },
   "outputs": [],
   "source": [
    "#Funciones de dirichlet y neumann\n",
    "def dirichlet_fun(x, n, domain_index, result):\n",
    "        result[0] = 1.*np.exp(1j*k*x[0])\n",
    "def neumann_fun(x, n, domain_index, result):\n",
    "        result[0] = 1.*1j*k*n[0]*np.exp(1j*k*x[0])"
   ]
  },
  {
   "cell_type": "markdown",
   "metadata": {},
   "source": [
    "Now it's time to define the multitrace operators that represent the diagonal of the matrix. This operators have the information of the transmision between the geometries. The definition of the multitrace (A) is posible to see below:"
   ]
  },
  {
   "cell_type": "markdown",
   "metadata": {},
   "source": [
    "$$\n",
    "A =\n",
    "\\begin{bmatrix}\n",
    "-K & S\\\\\n",
    "D & K'\n",
    "\\end{bmatrix}\n",
    "$$"
   ]
  },
  {
   "cell_type": "markdown",
   "metadata": {},
   "source": [
    "where K represent the double layer boundary operator, S the single layer, D the hypersingular and K' the adjoint double layer bounday operator"
   ]
  },
  {
   "cell_type": "code",
   "execution_count": null,
   "metadata": {
    "collapsed": true
   },
   "outputs": [],
   "source": [
    "#Operadores multitrazo\n",
    "Ai_m = bempp.api.operators.boundary.helmholtz.multitrace_operator(matriz, nm*k)\n",
    "Ae_m = bempp.api.operators.boundary.helmholtz.multitrace_operator(matriz, k)\n",
    "Ai_0 = bempp.api.operators.boundary.helmholtz.multitrace_operator(grid_0,nm*nc*k)\n",
    "Ae_0 = bempp.api.operators.boundary.helmholtz.multitrace_operator(grid_0,nm*k)\n",
    "Ai_1 = bempp.api.operators.boundary.helmholtz.multitrace_operator(grid_1,nm*nc*k)\n",
    "Ae_1 = bempp.api.operators.boundary.helmholtz.multitrace_operator(grid_1,nm*k)\n",
    "\n",
    "#Transmision en Multitrazo\n",
    "Ae_m[0,1] = Ae_m[0,1]*(1./alfa_m)\n",
    "Ae_m[1,1] = Ae_m[1,1]*(1./alfa_m)\n",
    "Ai_0[0,1] = Ai_0[0,1]*alfa_c\n",
    "Ai_0[1,1] = Ai_0[1,1]*alfa_c\n",
    "Ai_1[0,1] = Ai_1[0,1]*alfa_c\n",
    "Ai_1[1,1] = Ai_1[1,1]*alfa_c\n",
    "\n",
    "#Acople interior y exterior\n",
    "op_m = (Ai_m + Ae_m)\n",
    "op_0 = (Ai_0 + Ae_0)\n",
    "op_1 = (Ai_1 + Ae_1)"
   ]
  },
  {
   "cell_type": "markdown",
   "metadata": {},
   "source": [
    "In order to obtain the spaces created with the multitrace opertaor it's posible to do the following:"
   ]
  },
  {
   "cell_type": "code",
   "execution_count": null,
   "metadata": {
    "collapsed": true
   },
   "outputs": [],
   "source": [
    "#Espacios\n",
    "dirichlet_space_m = Ai_m[0,0].domain\n",
    "neumann_space_m = Ai_m[0,1].domain\n",
    "dirichlet_space_0 = Ai_0[0,0].domain\n",
    "neumann_space_0 = Ai_0[0,1].domain\n",
    "dirichlet_space_1 = Ai_1[0,0].domain\n",
    "neumann_space_1 = Ai_1[0,1].domain"
   ]
  },
  {
   "cell_type": "markdown",
   "metadata": {},
   "source": [
    "To make the complete diagonal of the main matrix showed at beggining is necessary to define the identity operators:"
   ]
  },
  {
   "cell_type": "code",
   "execution_count": null,
   "metadata": {
    "collapsed": true
   },
   "outputs": [],
   "source": [
    "#Operadores identidad\n",
    "ident_m = bempp.api.operators.boundary.sparse.identity(neumann_space_m, neumann_space_m, neumann_space_m)\n",
    "ident_0 = bempp.api.operators.boundary.sparse.identity(neumann_space_0, neumann_space_0, neumann_space_0)\n",
    "ident_1 = bempp.api.operators.boundary.sparse.identity(neumann_space_1, neumann_space_1, neumann_space_1)"
   ]
  },
  {
   "cell_type": "markdown",
   "metadata": {},
   "source": [
    "And now assembly with the multitrace operators,"
   ]
  },
  {
   "cell_type": "code",
   "execution_count": null,
   "metadata": {
    "collapsed": true
   },
   "outputs": [],
   "source": [
    "#Operadores diagonales\n",
    "op_m[1,1] = op_m[1,1] + 0.5 * ident_m * ((alfa_m -1)/alfa_m)\n",
    "op_0[1,1] = op_0[1,1] + 0.5 * ident_0* (alfa_c - 1)\n",
    "op_1[1,1] = op_1[1,1] + 0.5 * ident_1* (alfa_c - 1)"
   ]
  },
  {
   "cell_type": "markdown",
   "metadata": {},
   "source": [
    "The contribution between the different geometries are represented via the operators between the meshes, below are showed the codes to create the operator between the meshes:"
   ]
  },
  {
   "cell_type": "code",
   "execution_count": null,
   "metadata": {
    "collapsed": true
   },
   "outputs": [],
   "source": [
    "#Operadores entre mallas\n",
    "SLP_m_0 = bempp.api.operators.boundary.helmholtz.single_layer(neumann_space_m, dirichlet_space_0, dirichlet_space_0, nm*k)\n",
    "SLP_0_m = bempp.api.operators.boundary.helmholtz.single_layer(neumann_space_0, dirichlet_space_m, dirichlet_space_m, nm*k)\n",
    "DLP_m_0 = bempp.api.operators.boundary.helmholtz.double_layer(dirichlet_space_m, dirichlet_space_0, dirichlet_space_0, nm*k)\n",
    "DLP_0_m = bempp.api.operators.boundary.helmholtz.double_layer(dirichlet_space_0, dirichlet_space_m, dirichlet_space_m, nm*k)\n",
    "ADLP_m_0 = bempp.api.operators.boundary.helmholtz.adjoint_double_layer(neumann_space_m, neumann_space_0, neumann_space_0, nm*k)\n",
    "ADLP_0_m = bempp.api.operators.boundary.helmholtz.adjoint_double_layer(neumann_space_0, neumann_space_m, neumann_space_m, nm*k)\n",
    "HYP_m_0 = bempp.api.operators.boundary.helmholtz.hypersingular(dirichlet_space_m, neumann_space_0, neumann_space_0, nm*k)\n",
    "HYP_0_m = bempp.api.operators.boundary.helmholtz.hypersingular(dirichlet_space_0, neumann_space_m, neumann_space_m, nm*k)\n",
    "SLP_0_1 = bempp.api.operators.boundary.helmholtz.single_layer(neumann_space_0, dirichlet_space_1, dirichlet_space_1, nm*k)\n",
    "DLP_0_1 = bempp.api.operators.boundary.helmholtz.double_layer(dirichlet_space_0, dirichlet_space_1, dirichlet_space_1, nm*k)\n",
    "ADLP_0_1 = bempp.api.operators.boundary.helmholtz.adjoint_double_layer(neumann_space_0, neumann_space_1, neumann_space_1, nm*k)\n",
    "HYP_0_1 = bempp.api.operators.boundary.helmholtz.hypersingular(dirichlet_space_0, neumann_space_1, neumann_space_1, nm*k)\n",
    "SLP_m_1 = bempp.api.operators.boundary.helmholtz.single_layer(neumann_space_m, dirichlet_space_1, dirichlet_space_1, nm*k)\n",
    "SLP_1_m = bempp.api.operators.boundary.helmholtz.single_layer(neumann_space_1, dirichlet_space_m, dirichlet_space_m, nm*k)\n",
    "DLP_m_1 = bempp.api.operators.boundary.helmholtz.double_layer(dirichlet_space_m, dirichlet_space_1, dirichlet_space_1, nm*k)\n",
    "DLP_1_m = bempp.api.operators.boundary.helmholtz.double_layer(dirichlet_space_1, dirichlet_space_m, dirichlet_space_m, nm*k)\n",
    "ADLP_m_1 = bempp.api.operators.boundary.helmholtz.adjoint_double_layer(neumann_space_m, neumann_space_1, neumann_space_1, nm*k)\n",
    "ADLP_1_m = bempp.api.operators.boundary.helmholtz.adjoint_double_layer(neumann_space_1, neumann_space_m, neumann_space_m, nm*k)\n",
    "HYP_m_1 = bempp.api.operators.boundary.helmholtz.hypersingular(dirichlet_space_m, neumann_space_1, neumann_space_1, nm*k)\n",
    "HYP_1_m = bempp.api.operators.boundary.helmholtz.hypersingular(dirichlet_space_1, neumann_space_m, neumann_space_m, nm*k)\n",
    "SLP_1_0 = bempp.api.operators.boundary.helmholtz.single_layer(neumann_space_1, dirichlet_space_0, dirichlet_space_0, nm*k)\n",
    "DLP_1_0 = bempp.api.operators.boundary.helmholtz.double_layer(dirichlet_space_1, dirichlet_space_0, dirichlet_space_0, nm*k)\n",
    "ADLP_1_0 = bempp.api.operators.boundary.helmholtz.adjoint_double_layer(neumann_space_1, neumann_space_0, neumann_space_0, nm*k)\n",
    "HYP_1_0 = bempp.api.operators.boundary.helmholtz.hypersingular(dirichlet_space_1, neumann_space_0, neumann_space_0, nm*k)"
   ]
  },
  {
   "cell_type": "markdown",
   "metadata": {},
   "source": [
    "The first subinedx corresponds to the domain space, the second one to the range space. Now is time to create the big block that will have all the operators together, in this case the size is 6X6"
   ]
  },
  {
   "cell_type": "code",
   "execution_count": null,
   "metadata": {
    "collapsed": true
   },
   "outputs": [],
   "source": [
    "#Matriz de operadores\n",
    "blocked = bempp.api.BlockedOperator(6,6)"
   ]
  },
  {
   "cell_type": "markdown",
   "metadata": {},
   "source": [
    "Below are showed the form to assembly all the operators in the big block:"
   ]
  },
  {
   "cell_type": "code",
   "execution_count": null,
   "metadata": {
    "collapsed": true
   },
   "outputs": [],
   "source": [
    "#Diagonal\n",
    "blocked[0,0] = op_m[0,0]\n",
    "blocked[0,1] = op_m[0,1]\n",
    "blocked[1,0] = op_m[1,0]\n",
    "blocked[1,1] = op_m[1,1]\n",
    "blocked[2,2] = op_0[0,0]\n",
    "blocked[2,3] = op_0[0,1]\n",
    "blocked[3,2] = op_0[1,0]\n",
    "blocked[3,3] = op_0[1,1]\n",
    "blocked[4,4] = op_1[0,0]\n",
    "blocked[4,5] = op_1[0,1]\n",
    "blocked[5,4] = op_1[1,0]\n",
    "blocked[5,5] = op_1[1,1]\n",
    "\n",
    "#Contribucion hilos-matriz\n",
    "blocked[0,2] = DLP_0_m\n",
    "blocked[0,3] = -SLP_0_m\n",
    "blocked[1,2] = -HYP_0_m\n",
    "blocked[1,3] = -ADLP_0_m\n",
    "blocked[0,4] = DLP_1_m\n",
    "blocked[0,5] = -SLP_1_m\n",
    "blocked[1,4] = -HYP_1_m\n",
    "blocked[1,5] = -ADLP_1_m\n",
    "\n",
    "#Contribucion hilos-hilos\n",
    "blocked[2,4] = DLP_1_0\n",
    "blocked[2,5] = -SLP_1_0\n",
    "blocked[3,4] = -HYP_1_0\n",
    "blocked[3,5] = -ADLP_1_0\n",
    "\n",
    "#Contribucion matriz-hilos\n",
    "blocked[2,0] = -DLP_m_0\n",
    "blocked[2,1] = SLP_m_0\n",
    "blocked[3,0] = HYP_m_0\n",
    "blocked[3,1] = ADLP_m_0\n",
    "\n",
    "#Contribucion hilos-hilos\n",
    "blocked[4,2] = DLP_0_1\n",
    "blocked[4,3] = -SLP_0_1\n",
    "blocked[5,2] = -HYP_0_1\n",
    "blocked[5,3] = -ADLP_0_1\n",
    "\n",
    "#Contribucion matriz-hilos\n",
    "blocked[4,0] = -DLP_m_1\n",
    "blocked[4,1] = SLP_m_1\n",
    "blocked[5,0] = HYP_m_1\n",
    "blocked[5,1] = ADLP_m_1"
   ]
  },
  {
   "cell_type": "markdown",
   "metadata": {},
   "source": [
    "The definition of boundary conditions, the discretization of the operators and the discretization of right side are:"
   ]
  },
  {
   "cell_type": "code",
   "execution_count": null,
   "metadata": {
    "collapsed": true
   },
   "outputs": [],
   "source": [
    "#Condiciones de borde\n",
    "dirichlet_grid_fun_m = bempp.api.GridFunction(dirichlet_space_m, fun=dirichlet_fun)\n",
    "neumann_grid_fun_m = bempp.api.GridFunction(neumann_space_m, fun=neumann_fun)\n",
    "\n",
    "#Discretizacion lado izquierdo\n",
    "blocked_discretizado = blocked.strong_form()\n",
    "\n",
    "#Discretizacion lado derecho\n",
    "rhs = np.concatenate([dirichlet_grid_fun_m.coefficients, neumann_grid_fun_m.coefficients,np.zeros(dirichlet_space_0.global_dof_count), np.zeros(neumann_space_0.global_dof_count), np.zeros(dirichlet_space_1.global_dof_count), np.zeros(neumann_space_1.global_dof_count)])"
   ]
  },
  {
   "cell_type": "markdown",
   "metadata": {},
   "source": [
    "Now it's time to solve the system of equations, in this work we used a gmres. Also we save the solution and arrays to plot the convergence later."
   ]
  },
  {
   "cell_type": "code",
   "execution_count": null,
   "metadata": {
    "collapsed": true
   },
   "outputs": [],
   "source": [
    "#Sistema de ecuaciones\n",
    "import inspect\n",
    "from scipy.sparse.linalg import gmres\n",
    "array_it = np.array([])\n",
    "array_frame = np.array([])\n",
    "it_count = 0\n",
    "def iteration_counter(x):\n",
    "        global array_it\n",
    "        global array_frame\n",
    "        global it_count\n",
    "        it_count += 1\n",
    "        frame = inspect.currentframe().f_back\n",
    "        array_it = np.append(array_it, it_count)\n",
    "        array_frame = np.append(array_frame, frame.f_locals[\"resid\"])\n",
    "        print it_count, frame.f_locals[\"resid\"]\n",
    "print(\"Shape of matrix: {0}\".format(blocked_discretizado.shape))\n",
    "x,info = gmres(blocked_discretizado, rhs, tol=1e-5, callback = iteration_counter, maxiter = 50000)\n",
    "print(\"El sistema fue resuelto en {0} iteraciones\".format(it_count))\n",
    "np.savetxt(\"Solucion.out\", x, delimiter=\",\")\n",
    "        "
   ]
  },
  {
   "cell_type": "markdown",
   "metadata": {},
   "source": [
    "Now we can reorder the solution and use it for calculate the field in some point in the exterior of the matrix:"
   ]
  },
  {
   "cell_type": "code",
   "execution_count": null,
   "metadata": {
    "collapsed": true
   },
   "outputs": [],
   "source": [
    "#Campo interior\n",
    "interior_field_dirichlet_m = bempp.api.GridFunction(dirichlet_space_m, coefficients=x[:dirichlet_space_m.global_dof_count])\n",
    "interior_field_neumann_m = bempp.api.GridFunction(neumann_space_m,coefficients=x[dirichlet_space_m.global_dof_count:dirichlet_space_m.global_dof_count + neumann_space_m.global_dof_count])\n",
    "\n",
    "#Campo exterior\n",
    "exterior_field_dirichlet_m = interior_field_dirichlet_m\n",
    "exterior_field_neumann_m = interior_field_neumann_m*(1./alfa_m)\n",
    "\n",
    "#Calculo campo en antena\n",
    "slp_pot_ext_m = bempp.api.operators.potential.helmholtz.single_layer(dirichlet_space_m, antena, k)\n",
    "dlp_pot_ext_m = bempp.api.operators.potential.helmholtz.double_layer(dirichlet_space_m, antena, k)\n",
    "Campo_en_antena = (dlp_pot_ext_m * exterior_field_dirichlet_m - slp_pot_ext_m * exterior_field_neumann_m).ravel() + np.exp(1j*k*antena[0])\n",
    "print \"Valor del campo en receptor:\", Campo_en_antena\n",
    "\n"
   ]
  },
  {
   "cell_type": "markdown",
   "metadata": {},
   "source": [
    "Finally we plot the convergence and export it"
   ]
  },
  {
   "cell_type": "code",
   "execution_count": null,
   "metadata": {
    "collapsed": true
   },
   "outputs": [],
   "source": [
    "import matplotlib\n",
    "matplotlib.use(\"Agg\")\n",
    "from matplotlib import pyplot\n",
    "from matplotlib import rcParams\n",
    "rcParams[\"font.family\"] = \"serif\"\n",
    "rcParams[\"font.size\"] = 20\n",
    "pyplot.figure(figsize = (15,10))\n",
    "pyplot.title(\"Convergence\")\n",
    "pyplot.plot(array_it, array_frame, lw=2)\n",
    "pyplot.xlabel(\"iteration\")\n",
    "pyplot.ylabel(\"residual\")\n",
    "pyplot.grid()\n",
    "pyplot.savefig(\"Convergence.pdf\")"
   ]
  }
 ],
 "metadata": {
  "anaconda-cloud": {},
  "kernelspec": {
   "display_name": "Python [conda root]",
   "language": "python",
   "name": "conda-root-py"
  },
  "language_info": {
   "codemirror_mode": {
    "name": "ipython",
    "version": 2
   },
   "file_extension": ".py",
   "mimetype": "text/x-python",
   "name": "python",
   "nbconvert_exporter": "python",
   "pygments_lexer": "ipython2",
   "version": "2.7.12"
  }
 },
 "nbformat": 4,
 "nbformat_minor": 1
}
