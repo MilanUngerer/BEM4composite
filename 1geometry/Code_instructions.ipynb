{
 "cells": [
  {
   "cell_type": "markdown",
   "metadata": {},
   "source": [
    "# Explanation of code for 1 geometry"
   ]
  },
  {
   "cell_type": "markdown",
   "metadata": {},
   "source": [
    "This notebook is an explanation to understand the functionality of the code that compute the field for the scattering with 1 geometry"
   ]
  },
  {
   "cell_type": "markdown",
   "metadata": {},
   "source": [
    "<img src=\"1W.png\" style=\"width: 400px;\">"
   ]
  },
  {
   "cell_type": "markdown",
   "metadata": {},
   "source": [
    "The system of equations to solve this notebook consist in the electromagnetic scattering of a single geometry using Helmholtz equation and boundary element method, for this tutorial was used BEM++, a python library for boundary formulation problems.\n",
    "\n",
    "The Helmholtz equation for the electric field can be written:"
   ]
  },
  {
   "cell_type": "markdown",
   "metadata": {},
   "source": [
    "\\begin{equation}\n",
    "        \\nabla^2E(\\textbf{r})+k^2E(\\textbf{r})=0\n",
    "\\end{equation}  "
   ]
  },
  {
   "cell_type": "markdown",
   "metadata": {},
   "source": [
    "with:\n",
    "\n",
    "\\begin{equation}\n",
    "k^2=j\\omega\\sigma\\mu\n",
    "\\end{equation}\n",
    "\n",
    "\\begin{equation}\n",
    "\\hat{\\mu}=\\frac{\\mu_{in}}{\\mu_{out}}\n",
    "\\end{equation}\n"
   ]
  },
  {
   "cell_type": "markdown",
   "metadata": {},
   "source": [
    "And the following transmission conditions:\n",
    "    \n",
    "\\begin{equation}\n",
    "E_{out}=E_{in}\n",
    "\\end{equation}\n",
    "    \n",
    "\\begin{equation}\n",
    "\\frac{\\partial E_{in}}{\\partial n}=\\hat{\\mu}\\frac{\\partial E_{out}}{\\partial n}\n",
    "\\end{equation}"
   ]
  },
  {
   "cell_type": "markdown",
   "metadata": {},
   "source": [
    "In the boundary integral representation result a system of equations, showed below:\n",
    "\n",
    "\n",
    "\\begin{equation}\n",
    "        \\begin{bmatrix}\n",
    "        \\frac{\\hat{\\mu}+1}{2}-\\hat{\\mu}D_{out} + D_{in} & \\hat{\\mu}S_{out} - \\hat{\\mu}S_{in} \\\\\n",
    "        \\\\\n",
    "        -D_{out}^{'} + D_{in}^{'} & \\frac{\\hat{\\mu}+1}{2} + S_{out}^{'} - \\hat{\\mu}S_{in}^{'} \\\\\n",
    "        \\end{bmatrix}\n",
    "        \\begin{bmatrix}\n",
    "        E_{out}\\\\\n",
    "        \\\\\n",
    "        \\frac{\\partial E_{out}}{\\partial n}\\\\\n",
    "        \\end{bmatrix}\n",
    "        =\n",
    "        \\begin{bmatrix}\n",
    "        \\hat{\\mu}E_{inc}\\\\\n",
    "        \\\\\n",
    "        \\frac{\\partial E_{inc}}{\\partial n}\\\\\n",
    "        \\end{bmatrix}\n",
    "\\end{equation}  "
   ]
  },
  {
   "cell_type": "markdown",
   "metadata": {},
   "source": [
    "Where $D$ represent de double layer potential operator, $S$ the single layer operator, $D'$ the Hypersingular operator and $S'$ Adjoint double layer boundary operator."
   ]
  },
  {
   "cell_type": "markdown",
   "metadata": {},
   "source": [
    "## Python code using BEM++"
   ]
  },
  {
   "cell_type": "markdown",
   "metadata": {},
   "source": [
    "### Libraries"
   ]
  },
  {
   "cell_type": "code",
   "execution_count": null,
   "metadata": {
    "collapsed": true
   },
   "outputs": [],
   "source": [
    "import numpy as np\n",
    "import bempp.api"
   ]
  },
  {
   "cell_type": "markdown",
   "metadata": {},
   "source": [
    "### Working Parameters"
   ]
  },
  {
   "cell_type": "code",
   "execution_count": null,
   "metadata": {
    "collapsed": true
   },
   "outputs": [],
   "source": [
    "#########################################\n",
    "#Parametros de trabajo (Input)\n",
    "omega = 10. * 2.*np.pi * 1.e9\n",
    "e0 = 8.854*1e-12 * 1e-18   #micrometros\n",
    "mu0 = 4.*np.pi*1e-7 * 1e6  #micrometros\n",
    "mu = (-18.-40.j) * mu0\n",
    "cc = 6.5e4 * 1.e-18  #micrometros\n",
    "antena = np.array([[1.e5, 5.e5, 10.e5],[0., 0., 0.],[0., 0., 0.]])\n",
    "#antena = np.array([[1.e5],[0.],[0.]])\n",
    "Amp = 1.e6  #micrometros\n",
    "########################################\n",
    "#calculo variables a utilizar\n",
    "k0 = omega*np.sqrt(e0*mu0)\n",
    "k = np.sqrt(1j*omega*mu*cc)\n",
    "lam0 = 2*np.pi/k0\n",
    "lam = 2*np.pi/k\n",
    "alfa = mu/mu0\n",
    "\n",
    "########################################\n",
    "#Impresion de indices\n",
    "print \"Numero de onda exterior:\", k0\n",
    "print \"Numero de onda interior conductor:\", k\n",
    "print \"Indice de transmision conductor:\", alfa\n",
    "print \"Longitud de onda interior:\", lam, \"micras\"\n",
    "print \"Longitud de onda exterior:\", lam0, \"micras\"\n",
    "\n",
    "########################################"
   ]
  },
  {
   "cell_type": "markdown",
   "metadata": {},
   "source": [
    "### Mesh importation and boundary functions"
   ]
  },
  {
   "cell_type": "code",
   "execution_count": null,
   "metadata": {
    "collapsed": true
   },
   "outputs": [],
   "source": [
    "#Importando mallas\n",
    "grid = bempp.api.import_grid('/home/milanungerer/meshes/45m_45mm/22624_45_45.msh')\n",
    "\n",
    "########################################\n",
    "\n",
    "#Funciones de dirichlet y neumann\n",
    "def dirichlet_fun(x, n, domain_index, result):\n",
    "        result[0] = Amp * np.exp(1j*k0*x[0])\n",
    "def neumann_fun(x, n, domain_index, result):\n",
    "        result[0] = Amp * 1j*k0*n[0]*np.exp(1j*k0*x[0])\n",
    "        \n",
    "########################################\n"
   ]
  },
  {
   "cell_type": "markdown",
   "metadata": {},
   "source": [
    "### Multitrace operators"
   ]
  },
  {
   "cell_type": "code",
   "execution_count": null,
   "metadata": {
    "collapsed": true
   },
   "outputs": [],
   "source": [
    "#Operadores multitrazo\n",
    "Ai = bempp.api.operators.boundary.helmholtz.multitrace_operator(grid, k)\n",
    "Ae = bempp.api.operators.boundary.helmholtz.multitrace_operator(grid, k0)\n",
    "ident = bempp.api.operators.boundary.sparse.multitrace_identity(grid)\n",
    "\n",
    "#Transmision en Multitrazo\n",
    "Ae[0,0] = Ae[0,0] * alfa\n",
    "Ae[0,1] = Ae[0,1] * alfa\n",
    "Ai[0,1] = Ai[0,1] * alfa\n",
    "Ai[1,1] = Ai[1,1] * alfa\n"
   ]
  },
  {
   "cell_type": "markdown",
   "metadata": {},
   "source": [
    "### Spaces"
   ]
  },
  {
   "cell_type": "code",
   "execution_count": null,
   "metadata": {
    "collapsed": true
   },
   "outputs": [],
   "source": [
    "#Espacios\n",
    "dirichlet_space = Ae[0,0].domain\n",
    "neumann_space = Ae[0,1].domain"
   ]
  },
  {
   "cell_type": "markdown",
   "metadata": {},
   "source": [
    "### Equation assembly"
   ]
  },
  {
   "cell_type": "code",
   "execution_count": null,
   "metadata": {
    "collapsed": true
   },
   "outputs": [],
   "source": [
    "#LHS\n",
    "blocked = 0.5 * ident * (alfa + 1) - Ai + Ae\n",
    "\n",
    "#Condiciones de borde\n",
    "dirichlet_grid_fun = bempp.api.GridFunction(dirichlet_space, fun=dirichlet_fun)\n",
    "neumann_grid_fun = bempp.api.GridFunction(neumann_space, fun=neumann_fun)\n",
    "\n",
    "#Discretizacion lado izquierdo\n",
    "blocked_discretizado = blocked.strong_form()\n",
    "\n",
    "#RHS\n",
    "rhs = np.concatenate([alfa * dirichlet_grid_fun.coefficients, neumann_grid_fun.coefficients])"
   ]
  },
  {
   "cell_type": "markdown",
   "metadata": {},
   "source": [
    "### Equation solve"
   ]
  },
  {
   "cell_type": "code",
   "execution_count": null,
   "metadata": {
    "collapsed": true
   },
   "outputs": [],
   "source": [
    "#Sistema de ecuaciones\n",
    "import inspect\n",
    "from scipy.sparse.linalg import gmres\n",
    "array_it = np.array([])\n",
    "array_frame = np.array([])\n",
    "it_count = 0\n",
    "def iteration_counter(x):\n",
    "        global array_it\n",
    "        global array_frame\n",
    "        global it_count\n",
    "        it_count += 1\n",
    "        frame = inspect.currentframe().f_back\n",
    "        array_it = np.append(array_it, it_count)\n",
    "        array_frame = np.append(array_frame, frame.f_locals[\"resid\"])\n",
    "        if it_count % 10 == 0:\n",
    "                print it_count, frame.f_locals[\"resid\"]\n",
    "\n",
    "print(\"Shape of matrix: {0}\".format(blocked_discretizado.shape))\n",
    "x,info = gmres(blocked_discretizado, rhs, tol=1e-5, callback = iteration_counter, maxiter = 5000, restart = 5000)\n",
    "print(\"El sistema fue resuelto en {0} iteraciones\".format(it_count))\n",
    "np.savetxt(\"Solucion.out\", x, delimiter=\",\")"
   ]
  },
  {
   "cell_type": "markdown",
   "metadata": {},
   "source": [
    "### External and internal field calculation"
   ]
  },
  {
   "cell_type": "code",
   "execution_count": null,
   "metadata": {
    "collapsed": true
   },
   "outputs": [],
   "source": [
    "#Campo exterior\n",
    "exterior_field_dirichlet = bempp.api.GridFunction(dirichlet_space, coefficients=x[:dirichlet_space.global_dof_count])\n",
    "exterior_field_neumann = bempp.api.GridFunction(neumann_space,coefficients=x[dirichlet_space.global_dof_count:])\n",
    "\n",
    "#Campo interior\n",
    "interior_field_dirichlet = exterior_field_dirichlet\n",
    "interior_field_neumann = exterior_field_neumann * alfa"
   ]
  },
  {
   "cell_type": "markdown",
   "metadata": {},
   "source": [
    "### Field in antenna"
   ]
  },
  {
   "cell_type": "code",
   "execution_count": null,
   "metadata": {
    "collapsed": true
   },
   "outputs": [],
   "source": [
    "#Calculo campo en antena\n",
    "slp_pot_ext = bempp.api.operators.potential.helmholtz.single_layer(dirichlet_space, antena, k0)\n",
    "dlp_pot_ext = bempp.api.operators.potential.helmholtz.double_layer(dirichlet_space, antena, k0)\n",
    "\n",
    "Campo_en_antena_dis = (dlp_pot_ext * exterior_field_dirichlet - slp_pot_ext * exterior_field_neumann).ravel() #+ Amp * np.exp(1j*k0*antena[0])\n",
    "print \"Valor del campo dispersado en receptor:\", Campo_en_antena_dis\n",
    "print \"Valor del campo total en receptor:\", Campo_en_antena_dis + Amp * np.exp(1j*k0*antena[0])"
   ]
  },
  {
   "cell_type": "markdown",
   "metadata": {},
   "source": [
    "### Plotting"
   ]
  },
  {
   "cell_type": "code",
   "execution_count": null,
   "metadata": {
    "collapsed": true
   },
   "outputs": [],
   "source": [
    "########### Graficos ######################\n",
    "\n",
    "############################################################\n",
    "#Grafico de convergencia\n",
    "import matplotlib\n",
    "matplotlib.use(\"Agg\")\n",
    "from matplotlib import pyplot\n",
    "from matplotlib import rcParams\n",
    "\n",
    "#Grafico de convergencia\n",
    "rcParams[\"font.family\"] = \"serif\"\n",
    "rcParams[\"font.size\"] = 20\n",
    "pyplot.figure(figsize = (15,10))\n",
    "pyplot.title(\"Convergence\")\n",
    "pyplot.semilogy(array_it, array_frame, lw=2)\n",
    "pyplot.xlabel(\"iteration\")\n",
    "pyplot.ylabel(\"residual\")\n",
    "pyplot.grid()\n",
    "pyplot.savefig(\"Convergence.pdf\")\n",
    "\n",
    "\n",
    "#############################################################\n",
    "import sys\n",
    "sys.exit()\n",
    "#############################################################\n",
    "\n",
    "\n",
    "#Imagen con colores\n",
    "Nx = 500\n",
    "Ny = 500\n",
    "xmin, xmax, ymin, ymax = [-1000, 1000, -1000, 1000]\n",
    "plot_grid = np.mgrid[xmin:xmax:Nx * 1j, ymin:ymax:Ny * 1j]\n",
    "points = np.vstack((plot_grid[0].ravel(), plot_grid[1].ravel(), np.zeros(plot_grid[0].size)))\n",
    "u_evaluated = np.zeros(points.shape[1], dtype=np.complex128)\n",
    "\n",
    "x, y = points[:2]\n",
    "idx_ext = np.sqrt(x**2 + y**2) > 33.\n",
    "idx_int = np.sqrt(x**2 + y**2) <= 33.\n",
    "\n",
    "points_exterior = points[:, idx_ext]\n",
    "points_interior = points[:, idx_int]\n",
    "\n",
    "slp_pot_int = bempp.api.operators.potential.helmholtz.single_layer(dirichlet_space, points_interior, k)\n",
    "slp_pot_ext = bempp.api.operators.potential.helmholtz.single_layer(dirichlet_space, points_exterior, k0)\n",
    "dlp_pot_int = bempp.api.operators.potential.helmholtz.double_layer(dirichlet_space, points_interior, k)\n",
    "dlp_pot_ext = bempp.api.operators.potential.helmholtz.double_layer(dirichlet_space, points_exterior, k0)\n",
    "\n",
    "total_field_int = (slp_pot_int * interior_field_neumann - dlp_pot_int * interior_field_dirichlet).ravel()\n",
    "total_field_ext = (dlp_pot_ext * exterior_field_dirichlet - slp_pot_ext * exterior_field_neumann).ravel() + Amp*np.exp(1j * k0 * points_exterior[0])\n",
    "\n",
    "total_field = np.zeros(points.shape[1], dtype='complex128')\n",
    "total_field[idx_ext] = total_field_ext\n",
    "total_field[idx_int] = total_field_int\n",
    "total_field = total_field.reshape([Nx, Ny])\n",
    "\n",
    "##############################################################\n",
    "import matplotlib\n",
    "matplotlib.use('Agg')\n",
    "from matplotlib import pylab as plt\n",
    "\n",
    "fig = plt.figure(figsize=(10, 8))\n",
    "plt.imshow(np.real(total_field.T), extent=[-1000, 1000, -1000, 1000])\n",
    "plt.xlabel('x')\n",
    "plt.ylabel('y')\n",
    "plt.colorbar()\n",
    "plt.savefig('45m_perm1')\n",
    "\n"
   ]
  }
 ],
 "metadata": {
  "anaconda-cloud": {},
  "kernelspec": {
   "display_name": "Python [conda root]",
   "language": "python",
   "name": "conda-root-py"
  },
  "language_info": {
   "codemirror_mode": {
    "name": "ipython",
    "version": 2
   },
   "file_extension": ".py",
   "mimetype": "text/x-python",
   "name": "python",
   "nbconvert_exporter": "python",
   "pygments_lexer": "ipython2",
   "version": "2.7.14"
  }
 },
 "nbformat": 4,
 "nbformat_minor": 1
}
